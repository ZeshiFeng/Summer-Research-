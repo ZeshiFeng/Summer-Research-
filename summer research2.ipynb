{
 "cells": [
  {
   "cell_type": "code",
   "execution_count": 1,
   "id": "cdaf8d52-7b31-4d4b-8a37-d0673efb5ee4",
   "metadata": {},
   "outputs": [],
   "source": [
    "%matplotlib notebook\n",
    "import numpy as np\n",
    "import matplotlib.pyplot as plt\n",
    "from matplotlib.animation import FuncAnimation\n",
    "import gym\n",
    "from tqdm import tqdm\n",
    "import time"
   ]
  },
  {
   "cell_type": "code",
   "execution_count": 3,
   "id": "e02d80cd-4811-47f3-be43-84dfe5f5ca3f",
   "metadata": {},
   "outputs": [],
   "source": [
    "from gym import spaces\n",
    "from gym.utils import seeding\n",
    "\n",
    "class ArmedBanditsEnv(gym.Env):\n",
    "    \"\"\"\n",
    "    The famous k-Armed Bandit Environment, implemented for the gym interface.\n",
    "    Initialization requires an array of length equals to k, where each item is\n",
    "    a function which samples from a specified distribution.\n",
    "    \"\"\"\n",
    "    metadata = {'render.modes': ['human']}\n",
    "    \n",
    "    def __init__(self, mean, stddev):\n",
    "        assert len(mean.shape) == 2\n",
    "        assert len(stddev.shape) == 2\n",
    "        \n",
    "        super(ArmedBanditsEnv, self).__init__()\n",
    "        # Define action and observation space\n",
    "        self.num_bandits = mean.shape[1]\n",
    "        self.num_experiments = mean.shape[0]\n",
    "        self.action_space = spaces.Discrete(self.num_bandits)\n",
    "        \n",
    "        # Theres one state only in the k-armed bandits problem\n",
    "        self.observation_space = spaces.Discrete(1)\n",
    "        self.mean = mean\n",
    "        self.stddev = stddev\n",
    "        \n",
    "    def step(self, action):\n",
    "        # Sample from the specified bandit using it's reward distribution\n",
    "        assert (action < self.num_bandits).all()\n",
    "        \n",
    "        sampled_means = self.mean[np.arange(self.num_experiments),action]\n",
    "        sampled_stddevs = self.stddev[np.arange(self.num_experiments),action]\n",
    "        \n",
    "        reward = np.random.normal(loc=sampled_means, scale=sampled_stddevs, size=(self.num_experiments,))\n",
    "        \n",
    "        # Return a constant state of 0. Our environment has no terminal state\n",
    "        observation, done, info = 0, False, dict()\n",
    "        return observation, reward, done, info\n",
    "    \n",
    "    def reset(self):\n",
    "        return 0\n",
    "        \n",
    "    def render(self, mode='human', close=False):\n",
    "        pass\n",
    "    \n",
    "    def _seed(self, seed=None):\n",
    "        self.np_random, seed = seeding.np.random(seed)\n",
    "        return [seed]\n",
    "    \n",
    "    def close(self):\n",
    "        pass\n",
    "    \n",
    "    \n",
    "class ArmedBanditsGaussian(ArmedBanditsEnv):\n",
    "    def __init__(self, num_experiments=1, num_bandits=3):\n",
    "        self.means = np.random.normal(size=(num_experiments, num_bandits))\n",
    "        \n",
    "        ArmedBanditsEnv.__init__(self, self.means, np.ones((num_experiments, num_bandits)))"
   ]
  },
  {
   "cell_type": "code",
   "execution_count": 4,
   "id": "24ea4f4f-2f7d-4825-87c7-8ded480692b1",
   "metadata": {},
   "outputs": [
    {
     "ename": "ValueError",
     "evalue": "Output size (1,) is not compatible with broadcast dimensions of inputs (1, 1).",
     "output_type": "error",
     "traceback": [
      "\u001b[0;31m---------------------------------------------------------------------------\u001b[0m",
      "\u001b[0;31mValueError\u001b[0m                                Traceback (most recent call last)",
      "Cell \u001b[0;32mIn[4], line 8\u001b[0m\n\u001b[1;32m      6\u001b[0m \u001b[38;5;28;01mfor\u001b[39;00m i \u001b[38;5;129;01min\u001b[39;00m \u001b[38;5;28mrange\u001b[39m(\u001b[38;5;241m4\u001b[39m):\n\u001b[1;32m      7\u001b[0m     action \u001b[38;5;241m=\u001b[39m np\u001b[38;5;241m.\u001b[39marray([[i]])\n\u001b[0;32m----> 8\u001b[0m     _, reward, _, _ \u001b[38;5;241m=\u001b[39m \u001b[43menv\u001b[49m\u001b[38;5;241;43m.\u001b[39;49m\u001b[43mstep\u001b[49m\u001b[43m(\u001b[49m\u001b[43maction\u001b[49m\u001b[43m)\u001b[49m\n\u001b[1;32m      9\u001b[0m     \u001b[38;5;28mprint\u001b[39m(\u001b[38;5;124m\"\u001b[39m\u001b[38;5;124mBandit:\u001b[39m\u001b[38;5;124m\"\u001b[39m, i, \u001b[38;5;124m\"\u001b[39m\u001b[38;5;124m gave a reward of:\u001b[39m\u001b[38;5;124m\"\u001b[39m, reward[\u001b[38;5;241m0\u001b[39m])\n",
      "Cell \u001b[0;32mIn[3], line 34\u001b[0m, in \u001b[0;36mArmedBanditsEnv.step\u001b[0;34m(self, action)\u001b[0m\n\u001b[1;32m     31\u001b[0m sampled_means \u001b[38;5;241m=\u001b[39m \u001b[38;5;28mself\u001b[39m\u001b[38;5;241m.\u001b[39mmean[np\u001b[38;5;241m.\u001b[39marange(\u001b[38;5;28mself\u001b[39m\u001b[38;5;241m.\u001b[39mnum_experiments),action]\n\u001b[1;32m     32\u001b[0m sampled_stddevs \u001b[38;5;241m=\u001b[39m \u001b[38;5;28mself\u001b[39m\u001b[38;5;241m.\u001b[39mstddev[np\u001b[38;5;241m.\u001b[39marange(\u001b[38;5;28mself\u001b[39m\u001b[38;5;241m.\u001b[39mnum_experiments),action]\n\u001b[0;32m---> 34\u001b[0m reward \u001b[38;5;241m=\u001b[39m \u001b[43mnp\u001b[49m\u001b[38;5;241;43m.\u001b[39;49m\u001b[43mrandom\u001b[49m\u001b[38;5;241;43m.\u001b[39;49m\u001b[43mnormal\u001b[49m\u001b[43m(\u001b[49m\u001b[43mloc\u001b[49m\u001b[38;5;241;43m=\u001b[39;49m\u001b[43msampled_means\u001b[49m\u001b[43m,\u001b[49m\u001b[43m \u001b[49m\u001b[43mscale\u001b[49m\u001b[38;5;241;43m=\u001b[39;49m\u001b[43msampled_stddevs\u001b[49m\u001b[43m,\u001b[49m\u001b[43m \u001b[49m\u001b[43msize\u001b[49m\u001b[38;5;241;43m=\u001b[39;49m\u001b[43m(\u001b[49m\u001b[38;5;28;43mself\u001b[39;49m\u001b[38;5;241;43m.\u001b[39;49m\u001b[43mnum_experiments\u001b[49m\u001b[43m,\u001b[49m\u001b[43m)\u001b[49m\u001b[43m)\u001b[49m\n\u001b[1;32m     36\u001b[0m \u001b[38;5;66;03m# Return a constant state of 0. Our environment has no terminal state\u001b[39;00m\n\u001b[1;32m     37\u001b[0m observation, done, info \u001b[38;5;241m=\u001b[39m \u001b[38;5;241m0\u001b[39m, \u001b[38;5;28;01mFalse\u001b[39;00m, \u001b[38;5;28mdict\u001b[39m()\n",
      "File \u001b[0;32mnumpy/random/mtrand.pyx:1557\u001b[0m, in \u001b[0;36mnumpy.random.mtrand.RandomState.normal\u001b[0;34m()\u001b[0m\n",
      "File \u001b[0;32m_common.pyx:600\u001b[0m, in \u001b[0;36mnumpy.random._common.cont\u001b[0;34m()\u001b[0m\n",
      "File \u001b[0;32m_common.pyx:518\u001b[0m, in \u001b[0;36mnumpy.random._common.cont_broadcast_2\u001b[0;34m()\u001b[0m\n",
      "File \u001b[0;32m_common.pyx:245\u001b[0m, in \u001b[0;36mnumpy.random._common.validate_output_shape\u001b[0;34m()\u001b[0m\n",
      "\u001b[0;31mValueError\u001b[0m: Output size (1,) is not compatible with broadcast dimensions of inputs (1, 1)."
     ]
    }
   ],
   "source": [
    "means = np.array([[5, 1, 0, -10]]) # The mean for a four-armed bandit. Single experiment\n",
    "stdev = np.array([[1, 0.1, 5, 1]]) # The standard deviation for a four-armed bandit.\n",
    "\n",
    "env = ArmedBanditsEnv(means, stdev) # Create the environment\n",
    "\n",
    "for i in range(4):\n",
    "    action = np.array([[i]])\n",
    "    _, reward, _, _ = env.step(action)\n",
    "    print(\"Bandit:\", i, \" gave a reward of:\", reward[0])"
   ]
  },
  {
   "cell_type": "code",
   "execution_count": null,
   "id": "4c9e81ca-3d65-4cbc-ab14-82f06a3b54ff",
   "metadata": {},
   "outputs": [],
   "source": []
  }
 ],
 "metadata": {
  "kernelspec": {
   "display_name": "Python 3 (ipykernel)",
   "language": "python",
   "name": "python3"
  },
  "language_info": {
   "codemirror_mode": {
    "name": "ipython",
    "version": 3
   },
   "file_extension": ".py",
   "mimetype": "text/x-python",
   "name": "python",
   "nbconvert_exporter": "python",
   "pygments_lexer": "ipython3",
   "version": "3.10.18"
  }
 },
 "nbformat": 4,
 "nbformat_minor": 5
}
