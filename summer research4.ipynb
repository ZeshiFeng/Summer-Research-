{
 "cells": [
  {
   "cell_type": "code",
   "execution_count": 2,
   "id": "72433bca",
   "metadata": {},
   "outputs": [],
   "source": [
    "import numpy as np\n",
    "import pandas as pd\n",
    "import seaborn as sns\n",
    "import matplotlib.pyplot as plt\n",
    "from arch.bootstrap import MCS"
   ]
  },
  {
   "cell_type": "code",
   "execution_count": null,
   "id": "5527e761",
   "metadata": {},
   "outputs": [],
   "source": [
    "def sigmoid(x):\n",
    "    return 1 / (1 + np.exp(-x))"
   ]
  },
  {
   "cell_type": "code",
   "execution_count": null,
   "id": "bdab6e8f",
   "metadata": {},
   "outputs": [],
   "source": [
    "#广告数\n",
    "narms = 5 \n",
    "#context\n",
    "d = 5              \n",
    "steps = 2000\n",
    "repeats = 100\n",
    "np.random.seed(42) \n",
    "\n",
    "# arm对应一个隐藏线性权重向量 θ_a\n",
    "true_thetas = [np.random.normal(0, 1, d) for _ in range(narms)]"
   ]
  },
  {
   "cell_type": "code",
   "execution_count": null,
   "id": "40d6a7cf",
   "metadata": {},
   "outputs": [],
   "source": [
    "class CAB_EpsGreedy:\n",
    "    def __init__(self, narms, d, epsilon):\n",
    "        self.narms = narms\n",
    "        self.d = d\n",
    "        self.epsilon = epsilon\n",
    "\n",
    "        self.X = [np.zeros((0, d)) for _ in range(narms)]\n",
    "        self.y = [np.array([]) for _ in range(narms)]\n",
    "        self.theta = [np.zeros(d) for _ in range(narms)]\n",
    "\n",
    "    def select_arm(self, context):\n",
    "        if np.random.rand() < self.epsilon:\n",
    "            return np.random.randint(self.narms)\n",
    "        preds = [np.dot(context, self.theta[a]) for a in range(self.narms)]\n",
    "        return np.argmax(preds)\n",
    "\n",
    "    def update(self, context, arm, reward):\n",
    "        self.X[arm] = np.vstack([self.X[arm], context])\n",
    "        self.y[arm] = np.append(self.y[arm], reward)\n",
    "\n",
    "        X_arm = self.X[arm]\n",
    "        y_arm = self.y[arm]\n",
    "        if X_arm.shape[0] >= self.d:\n",
    "            reg = 1e-4 * np.eye(self.d)\n",
    "            XtX = X_arm.T @ X_arm + reg\n",
    "            Xty = X_arm.T @ y_arm\n",
    "            self.theta[arm] = np.linalg.solve(XtX, Xty)\n",
    "\n",
    "\n",
    "\n",
    "class CAB_LinUCB:\n",
    "    def __init__(self, narms, d, alpha):\n",
    "        self.narms = narms\n",
    "        self.d = d\n",
    "        self.alpha = alpha\n",
    "\n",
    "        self.A = [np.identity(d) for _ in range(narms)]\n",
    "        self.b = [np.zeros(d) for _ in range(narms)]\n",
    "\n",
    "    def select_arm(self, context):\n",
    "        p = np.zeros(self.narms)\n",
    "        for a in range(self.narms):\n",
    "            A_inv = np.linalg.inv(self.A[a])\n",
    "            theta_a = A_inv @ self.b[a]\n",
    "            p[a] = context @ theta_a + self.alpha * np.sqrt(context @ A_inv @ context)\n",
    "        return np.argmax(p)\n",
    "\n",
    "    def update(self, context, arm, reward):\n",
    "        x = context.reshape(-1, 1)\n",
    "        self.A[arm] += x @ x.T\n",
    "        self.b[arm] += reward * context\n",
    "\n",
    "\n",
    "\n",
    "class CAB_ThompsonSampling:\n",
    "    def __init__(self, narms, d):\n",
    "        self.narms = narms\n",
    "        self.d = d\n",
    "        self.X = [np.zeros((0, d)) for _ in range(narms)]\n",
    "        self.y = [np.array([]) for _ in range(narms)]\n",
    "        self.theta_samples = [np.zeros(d) for _ in range(narms)]\n",
    "\n",
    "    def select_arm(self, context):\n",
    "        preds = []\n",
    "        for a in range(self.narms):\n",
    "            if self.X[a].shape[0] < self.d:\n",
    "                preds.append(np.random.rand())\n",
    "                continue\n",
    "            XTX = self.X[a].T @ self.X[a] + 1e-4 * np.eye(self.d)\n",
    "            XTy = self.X[a].T @ self.y[a]\n",
    "            theta_mean = np.linalg.solve(XTX, XTy)\n",
    "            cov = np.linalg.inv(XTX)\n",
    "            theta_sample = np.random.multivariate_normal(theta_mean, cov)\n",
    "            preds.append(np.dot(context, theta_sample))\n",
    "        return np.argmax(preds)\n",
    "\n",
    "    def update(self, context, arm, reward):\n",
    "        self.X[arm] = np.vstack([self.X[arm], context])\n",
    "        self.y[arm] = np.append(self.y[arm], reward)\n",
    "\n"
   ]
  },
  {
   "cell_type": "code",
   "execution_count": 15,
   "id": "4acc5fe7",
   "metadata": {},
   "outputs": [],
   "source": [
    "def run_experiment_cab(policy_class, true_thetas, steps, d, **kwargs):\n",
    "    narms = len(true_thetas)\n",
    "    bandit = policy_class(narms, d, **kwargs)\n",
    "    rewards = np.zeros(steps)\n",
    "\n",
    "    for t in range(steps):\n",
    "        context = np.random.normal(0, 1, d)\n",
    "        arm = bandit.select_arm(context)\n",
    "        click_prob = sigmoid(np.dot(context, true_thetas[arm]))\n",
    "        reward = np.random.binomial(1, click_prob)\n",
    "        bandit.update(context, arm, reward)\n",
    "        rewards[t] = reward\n",
    "\n",
    "    return rewards\n"
   ]
  },
  {
   "cell_type": "code",
   "execution_count": null,
   "id": "c54a1cea",
   "metadata": {},
   "outputs": [],
   "source": [
    "policy_configs = {\n",
    "    \"Eps=0.0\": (CAB_EpsGreedy, {\"epsilon\": 0.0}),\n",
    "    \"Eps=0.1\": (CAB_EpsGreedy, {\"epsilon\": 0.1}),\n",
    "    \"Eps=0.3\": (CAB_EpsGreedy, {\"epsilon\": 0.3}),\n",
    "    \"Eps=0.5\": (CAB_EpsGreedy, {\"epsilon\": 0.5}),\n",
    "    \"LinUCB\": (CAB_LinUCB, {\"alpha\": 0.5}),\n",
    "    \"TS\": (CAB_ThompsonSampling, {}),\n",
    "}\n",
    "\n",
    "\n",
    "cumulative_rewards = {}\n",
    "\n",
    "for name, (policy_class, params) in policy_configs.items():\n",
    "    reward_list = []\n",
    "    for _ in range(repeats):\n",
    "        rewards = run_experiment_cab(policy_class, true_thetas, steps, d, **params)\n",
    "        total_reward = rewards.sum()\n",
    "        reward_list.append(total_reward)\n",
    "    cumulative_rewards[name] = reward_list\n"
   ]
  },
  {
   "cell_type": "code",
   "execution_count": null,
   "id": "6859952b",
   "metadata": {},
   "outputs": [],
   "source": [
    "'''MCS'''\n",
    "policy_names = list(cumulative_rewards.keys())\n",
    "reward_matrix = []\n",
    "\n",
    "for i in range(repeats):\n",
    "    row = []\n",
    "    for name in policy_names:\n",
    "        row.append(cumulative_rewards[name][i])\n",
    "    reward_matrix.append(row)\n",
    "\n",
    "reward_matrix = np.array(reward_matrix)\n",
    "loss_matrix = -reward_matrix\n"
   ]
  },
  {
   "cell_type": "code",
   "execution_count": null,
   "id": "df166bce",
   "metadata": {},
   "outputs": [
    {
     "name": "stdout",
     "output_type": "stream",
     "text": [
      "MCS 95% 策略置信集：\n",
      "['LinUCB']\n"
     ]
    }
   ],
   "source": [
    "mcs = MCS(loss_matrix, size=0.05, reps=1000, block_size=1)\n",
    "mcs.compute()\n",
    "\n",
    "included_indices = mcs.included\n",
    "included_policies = [policy_names[i] for i in included_indices]\n",
    "\n",
    "print(\"MCS 95% policy set: \")\n",
    "print(included_policies)\n"
   ]
  },
  {
   "cell_type": "code",
   "execution_count": 19,
   "id": "45a3889e",
   "metadata": {},
   "outputs": [
    {
     "data": {
      "image/png": "[encoded data removed]",
      "text/plain": [
       "<Figure size 1200x600 with 1 Axes>"
      ]
     },
     "metadata": {},
     "output_type": "display_data"
    }
   ],
   "source": [
    "df = pd.DataFrame(cumulative_rewards)\n",
    "df_melted = df.melt(var_name=\"Strategy\", value_name=\"Cumulative Reward\")\n",
    "\n",
    "plt.figure(figsize=(12, 6))\n",
    "sns.boxplot(data=df_melted, x=\"Strategy\", y=\"Cumulative Reward\")\n",
    "plt.title(\"Cumulative Reward Distribution by Strategy\")\n",
    "plt.grid(True)\n",
    "plt.show()\n",
    "\n"
   ]
  },
  {
   "cell_type": "code",
   "execution_count": null,
   "id": "01397eb3",
   "metadata": {},
   "outputs": [],
   "source": []
  }
 ],
 "metadata": {
  "kernelspec": {
   "display_name": "STAT2255",
   "language": "python",
   "name": "python3"
  },
  "language_info": {
   "codemirror_mode": {
    "name": "ipython",
    "version": 3
   },
   "file_extension": ".py",
   "mimetype": "text/x-python",
   "name": "python",
   "nbconvert_exporter": "python",
   "pygments_lexer": "ipython3",
   "version": "3.12.8"
  }
 },
 "nbformat": 4,
 "nbformat_minor": 5
}
